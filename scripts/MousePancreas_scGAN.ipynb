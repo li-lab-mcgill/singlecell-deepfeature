{
 "cells": [
  {
   "cell_type": "code",
   "execution_count": null,
   "metadata": {},
   "outputs": [],
   "source": [
    "import GEOparse\n",
    "from tqdm import tqdm\n",
    "import urllib.request\n",
    "import random\n",
    "import os\n",
    "import numpy as np\n",
    "import pandas as pd\n",
    "import scanpy as sc\n",
    "import anndata\n",
    "\n",
    "from utils_helper import VAE, Discriminator, Regressor, GANTrainer, entropy_batch_mixing, clustering_scores, GeneDataset\n",
    "\n",
    "import torch\n",
    "import matplotlib.pyplot as plt\n",
    "import tensorflow as tf\n",
    "import sys\n",
    "import umap\n",
    "\n",
    "seed = 345\n",
    "os.environ['PYTHONHASHSEED']=str(seed)\n",
    "random.seed(seed)\n",
    "np.random.seed(seed)\n",
    "tf.set_random_seed(seed)\n",
    "\n",
    "gpus = [\"6\"]\n",
    "os.environ[\"CUDA_VISIBLE_DEVICES\"] = ','.join(gpus)\n",
    "device = 'cuda:0'"
   ]
  },
  {
   "cell_type": "markdown",
   "metadata": {},
   "source": [
    "# Load Data"
   ]
  },
  {
   "cell_type": "code",
   "execution_count": null,
   "metadata": {},
   "outputs": [],
   "source": [
    "data_path = '/home/mcb/users/mbahra5/project/data/GEO/'\n",
    "gse = GEOparse.get_GEO(geo='GSE84133', destdir=data_path)"
   ]
  },
  {
   "cell_type": "code",
   "execution_count": null,
   "metadata": {},
   "outputs": [],
   "source": [
    "supp = gse.download_supplementary_files(directory=data_path, download_sra=False)"
   ]
  },
  {
   "cell_type": "code",
   "execution_count": null,
   "metadata": {},
   "outputs": [],
   "source": [
    "data = []\n",
    "for k in tqdm(supp.keys()):\n",
    "    for v in supp[k].values():\n",
    "        if 'mouse' in v:\n",
    "            data.append(pd.read_csv(v))"
   ]
  },
  {
   "cell_type": "code",
   "execution_count": null,
   "metadata": {},
   "outputs": [],
   "source": [
    "genes = data[0].columns[3:].values\n",
    "df = pd.concat(data)\n",
    "df['batch'] = df['Unnamed: 0'].apply(lambda x: x[:6]).astype('category').cat.codes.astype('long').values"
   ]
  },
  {
   "cell_type": "code",
   "execution_count": null,
   "metadata": {
    "scrolled": true
   },
   "outputs": [],
   "source": [
    "adata = anndata.AnnData(X=df[genes].values)\n",
    "adata.obs['cell_type'] = df['assigned_cluster'].values\n",
    "adata.obs['labels'] = df['assigned_cluster'].astype('category').cat.codes.values\n",
    "adata.obs['batch'] = df['batch'].values"
   ]
  },
  {
   "cell_type": "code",
   "execution_count": null,
   "metadata": {},
   "outputs": [],
   "source": [
    "# shuffle dataset\n",
    "sc.pp.subsample(adata,fraction=1,random_state = seed)"
   ]
  },
  {
   "cell_type": "code",
   "execution_count": null,
   "metadata": {},
   "outputs": [],
   "source": [
    "dataset = GeneDataset(adata.X, adata.obs.labels, adata.obs.batch, adata.obs.batch)"
   ]
  },
  {
   "cell_type": "markdown",
   "metadata": {},
   "source": [
    "# Latent Inference"
   ]
  },
  {
   "cell_type": "code",
   "execution_count": null,
   "metadata": {},
   "outputs": [],
   "source": [
    "n_epochs = 50\n",
    "lr = 0.001\n",
    "eps = 1e-8\n",
    "use_batches = True\n",
    "use_cuda = True\n",
    "n_latent = 10\n",
    "batch_size = 128\n",
    "%matplotlib inline"
   ]
  },
  {
   "cell_type": "code",
   "execution_count": null,
   "metadata": {},
   "outputs": [],
   "source": [
    "vae = VAE(dataset.nb_genes, n_batch=dataset.n_batches * use_batches, n_latent=n_latent, n_layers = 2,\n",
    "          n_hidden=64).cuda(device)"
   ]
  },
  {
   "cell_type": "code",
   "execution_count": null,
   "metadata": {},
   "outputs": [],
   "source": [
    "disc = Discriminator(n_latent, [2*n_latent], dataset.n_batches).cuda(device)"
   ]
  },
  {
   "cell_type": "code",
   "execution_count": null,
   "metadata": {},
   "outputs": [],
   "source": [
    "trainer = GANTrainer('discrete', vae, disc, dataset, device, batch_size)"
   ]
  },
  {
   "cell_type": "code",
   "execution_count": null,
   "metadata": {},
   "outputs": [],
   "source": [
    "# Pretraining\n",
    "history = trainer.train(n_epochs=50, lr= lr*1, eps=eps, disc_lr= lr * 1, enc_lr = lr* 0.0 )"
   ]
  },
  {
   "cell_type": "code",
   "execution_count": null,
   "metadata": {},
   "outputs": [],
   "source": [
    "elbo_train = history[0]\n",
    "x = np.linspace(0, len(elbo_train), len(elbo_train))\n",
    "plt.plot(x, elbo_train)"
   ]
  },
  {
   "cell_type": "code",
   "execution_count": null,
   "metadata": {},
   "outputs": [],
   "source": [
    "# Training with Adversarial loss\n",
    "history = trainer.train(n_epochs=30, lr= lr*1, eps=eps, disc_lr= lr * 1, enc_lr = lr* 0.05)"
   ]
  },
  {
   "cell_type": "code",
   "execution_count": null,
   "metadata": {},
   "outputs": [],
   "source": [
    "latent, labels, batches = [item.detach().cpu().numpy() for item in trainer.get_latent()]"
   ]
  },
  {
   "cell_type": "code",
   "execution_count": null,
   "metadata": {
    "scrolled": true
   },
   "outputs": [],
   "source": [
    "adata.obsm[\"X_scGAN\"] = latent"
   ]
  },
  {
   "cell_type": "markdown",
   "metadata": {},
   "source": [
    "# t-SNE"
   ]
  },
  {
   "cell_type": "code",
   "execution_count": null,
   "metadata": {},
   "outputs": [],
   "source": [
    "sc.tl.tsne(adata, use_rep='X_scGAN', n_pcs=2)"
   ]
  },
  {
   "cell_type": "code",
   "execution_count": null,
   "metadata": {},
   "outputs": [],
   "source": [
    "show_plot = True\n",
    "fig, ax = plt.subplots(figsize=(9, 8))\n",
    "sc.pl.tsne(adata, color=[\"cell_type\"], ax=ax, show=show_plot)\n",
    "\n",
    "fig, ax = plt.subplots(figsize=(9, 8))\n",
    "sc.pl.tsne(adata, color=[\"batch\"], ax=ax, show=show_plot)"
   ]
  },
  {
   "cell_type": "markdown",
   "metadata": {},
   "source": [
    "# Scores"
   ]
  },
  {
   "cell_type": "code",
   "execution_count": null,
   "metadata": {},
   "outputs": [],
   "source": [
    "print(\"Entropy of batch mixing :\", entropy_batch_mixing(latent, batches))"
   ]
  },
  {
   "cell_type": "markdown",
   "metadata": {},
   "source": [
    "## Kmeans Clustering Score"
   ]
  },
  {
   "cell_type": "code",
   "execution_count": null,
   "metadata": {},
   "outputs": [],
   "source": [
    "print(\"Clustering ARI = {}\".format(clustering_scores(dataset.n_labels, labels, latent)))"
   ]
  },
  {
   "cell_type": "markdown",
   "metadata": {},
   "source": [
    "## Louvain Clustering Score"
   ]
  },
  {
   "cell_type": "code",
   "execution_count": null,
   "metadata": {},
   "outputs": [],
   "source": [
    "sc.pp.neighbors(adata, use_rep=\"X_scGAN\", n_neighbors=30)\n",
    "sc.tl.louvain(adata, resolution=0.15)"
   ]
  },
  {
   "cell_type": "code",
   "execution_count": null,
   "metadata": {},
   "outputs": [],
   "source": [
    "show_plot = True\n",
    "fig, ax = plt.subplots(figsize=(9, 8))\n",
    "sc.pl.tsne(adata, color=['louvain'], ax=ax, show=show_plot)"
   ]
  },
  {
   "cell_type": "code",
   "execution_count": null,
   "metadata": {},
   "outputs": [],
   "source": [
    "from sklearn.metrics import adjusted_rand_score as ARI\n",
    "ari_score = ARI(labels, adata.obs['louvain'])\n",
    "print(\"Louvain Clustering ARI = {}\".format(ari_score))"
   ]
  },
  {
   "cell_type": "markdown",
   "metadata": {},
   "source": [
    "# UMAP"
   ]
  },
  {
   "cell_type": "code",
   "execution_count": null,
   "metadata": {},
   "outputs": [],
   "source": [
    "# import warnings\n",
    "# warnings.filterwarnings('ignore')\n",
    "sc.pp.neighbors(adata, use_rep=\"X_scGAN\", n_neighbors=15)\n",
    "sc.tl.umap(adata, min_dist=0.1)"
   ]
  },
  {
   "cell_type": "code",
   "execution_count": null,
   "metadata": {},
   "outputs": [],
   "source": [
    "show_plot = True\n",
    "fig, ax = plt.subplots(figsize=(10, 9))\n",
    "sc.pl.umap(adata, color=[\"cell_type\"], ax=ax, show=show_plot)\n",
    "fig, ax = plt.subplots(figsize=(10, 9))\n",
    "sc.pl.umap(adata, color=[\"batch\"], ax=ax, show=show_plot)\n"
   ]
  },
  {
   "cell_type": "code",
   "execution_count": null,
   "metadata": {},
   "outputs": [],
   "source": []
  }
 ],
 "metadata": {
  "kernelspec": {
   "display_name": "Python 3",
   "language": "python",
   "name": "python3"
  },
  "language_info": {
   "codemirror_mode": {
    "name": "ipython",
    "version": 3
   },
   "file_extension": ".py",
   "mimetype": "text/x-python",
   "name": "python",
   "nbconvert_exporter": "python",
   "pygments_lexer": "ipython3",
   "version": "3.6.9"
  }
 },
 "nbformat": 4,
 "nbformat_minor": 4
}
