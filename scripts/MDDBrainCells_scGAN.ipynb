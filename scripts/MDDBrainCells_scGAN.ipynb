{
 "cells": [
  {
   "cell_type": "code",
   "execution_count": null,
   "metadata": {},
   "outputs": [],
   "source": [
    "import GEOparse\n",
    "from tqdm import tqdm\n",
    "import urllib.request\n",
    "import random\n",
    "import os\n",
    "import numpy as np\n",
    "import pandas as pd\n",
    "import scanpy as sc\n",
    "import anndata\n",
    "\n",
    "import torch\n",
    "import matplotlib.pyplot as plt\n",
    "import tensorflow as tf\n",
    "import sys\n",
    "import umap\n",
    "\n",
    "from utils_helper import VAE, Discriminator, Regressor, GANTrainer, entropy_batch_mixing, clustering_scores, GeneDataset\n",
    "\n",
    "\n",
    "seed = 345\n",
    "os.environ['PYTHONHASHSEED']=str(seed)\n",
    "random.seed(seed)\n",
    "np.random.seed(seed)\n",
    "tf.set_random_seed(seed)\n",
    "\n",
    "\n",
    "gpus = [\"6\"]\n",
    "os.environ[\"CUDA_VISIBLE_DEVICES\"] = ','.join(gpus)\n",
    "device = 'cuda:0'"
   ]
  },
  {
   "cell_type": "markdown",
   "metadata": {},
   "source": [
    "# Load Data"
   ]
  },
  {
   "cell_type": "code",
   "execution_count": null,
   "metadata": {},
   "outputs": [],
   "source": [
    "path = \"/home/mcb/users/mbahra5/project/data/turecki_types_all.h5ad\"\n",
    "adata = sc.read_h5ad(path)"
   ]
  },
  {
   "cell_type": "code",
   "execution_count": null,
   "metadata": {},
   "outputs": [],
   "source": [
    "# to use a subsample of data uncomment this:\n",
    "sc.pp.subsample(adata, fraction=0.2, random_state = seed)"
   ]
  },
  {
   "cell_type": "code",
   "execution_count": null,
   "metadata": {},
   "outputs": [],
   "source": [
    "# Create batch labels using the age\n",
    "id2age = {10:19,11:19,12:24,15:30,17:41,20:31,31:21,36:27,48:26,55:54,58:22,67:22,84:29,104:87,118:51,127:82,133:42,134:42,135:18,142:47,149:77,150:52,167:30,173:20,183:64,184:34,185:48,215:43,216:55,225:44,250:26,251:44,305:32,315:53}\n",
    "adata.obs['age'] = adata.obs['patient_id'].map(id2age).astype('float')\n",
    "adata.obs['age_bin'] = (adata.obs['age'].astype('int32') / 10).astype('int32').astype('category') "
   ]
  },
  {
   "cell_type": "code",
   "execution_count": null,
   "metadata": {
    "scrolled": true
   },
   "outputs": [],
   "source": [
    "adata.obs['cell_type'] = adata.obs['cell_group'].values\n",
    "adata.obs['labels'] = adata.obs['cell_group'].astype('category').cat.codes.values\n",
    "adata.obs['batch'] = adata.obs['age_bin'].astype('category').cat.codes.astype('long').values"
   ]
  },
  {
   "cell_type": "code",
   "execution_count": null,
   "metadata": {},
   "outputs": [],
   "source": [
    "dataset = GeneDataset(adata.X, adata.obs.labels, adata.obs.batch, adata.obs.age)"
   ]
  },
  {
   "cell_type": "markdown",
   "metadata": {},
   "source": [
    "# Latent Inference"
   ]
  },
  {
   "cell_type": "code",
   "execution_count": null,
   "metadata": {},
   "outputs": [],
   "source": [
    "n_epochs = 50\n",
    "lr = 0.001\n",
    "eps = 1e-8\n",
    "use_batches = True\n",
    "use_cuda = True\n",
    "n_latent = 10\n",
    "batch_size = 128\n",
    "%matplotlib inline"
   ]
  },
  {
   "cell_type": "code",
   "execution_count": null,
   "metadata": {},
   "outputs": [],
   "source": [
    "vae = VAE(dataset.nb_genes, n_batch=dataset.n_batches * use_batches, n_latent=n_latent, n_layers = 2,\n",
    "          n_hidden=64).cuda(device)"
   ]
  },
  {
   "cell_type": "code",
   "execution_count": null,
   "metadata": {},
   "outputs": [],
   "source": [
    "disc = Regressor(n_latent, [2*n_latent], dataset.n_batches).to('cuda:0').cuda(device)"
   ]
  },
  {
   "cell_type": "code",
   "execution_count": null,
   "metadata": {},
   "outputs": [],
   "source": [
    "trainer = GANTrainer('continuous', vae, disc, dataset, device, batch_size)"
   ]
  },
  {
   "cell_type": "code",
   "execution_count": null,
   "metadata": {},
   "outputs": [],
   "source": [
    "# Pretraining\n",
    "history = trainer.train(n_epochs=30, lr= lr*1, eps=eps, disc_lr= lr * 0.0, enc_lr = lr* 0.0 )"
   ]
  },
  {
   "cell_type": "code",
   "execution_count": null,
   "metadata": {},
   "outputs": [],
   "source": [
    "elbo_train = history[0]\n",
    "x = np.linspace(0, len(elbo_train), len(elbo_train))\n",
    "plt.plot(x, elbo_train)"
   ]
  },
  {
   "cell_type": "code",
   "execution_count": null,
   "metadata": {
    "scrolled": true
   },
   "outputs": [],
   "source": [
    "# Training with Adversarial loss\n",
    "history = trainer.train(n_epochs=30, lr= lr*1, eps=eps, disc_lr= lr * 1, enc_lr = lr* 0.05)"
   ]
  },
  {
   "cell_type": "code",
   "execution_count": null,
   "metadata": {},
   "outputs": [],
   "source": [
    "latent, labels, batches = [item.detach().cpu().numpy() for item in trainer.get_latent()]"
   ]
  },
  {
   "cell_type": "code",
   "execution_count": null,
   "metadata": {
    "scrolled": true
   },
   "outputs": [],
   "source": [
    "adata.obsm[\"X_scGAN\"] = latent"
   ]
  },
  {
   "cell_type": "markdown",
   "metadata": {},
   "source": [
    "# t-SNE"
   ]
  },
  {
   "cell_type": "code",
   "execution_count": null,
   "metadata": {},
   "outputs": [],
   "source": [
    "sc.tl.tsne(adata, use_rep='X_scGAN', n_pcs=2)"
   ]
  },
  {
   "cell_type": "code",
   "execution_count": null,
   "metadata": {},
   "outputs": [],
   "source": [
    "show_plot = True\n",
    "fig, ax = plt.subplots(figsize=(9, 8))\n",
    "sc.pl.tsne(adata, color=[\"cell_group\"], ax=ax, show=show_plot)\n",
    "\n",
    "# fig, ax = plt.subplots(figsize=(9, 8))\n",
    "# sc.pl.tsne(adata, color=[\"batch\"], ax=ax, show=show_plot, size = 20)\n",
    "\n",
    "fig, ax = plt.subplots(figsize=(9, 8))\n",
    "sc.pl.tsne(adata, color=[\"age\"], ax=ax, show=show_plot ,size = 20)\n",
    "\n",
    "fig, ax = plt.subplots(figsize=(9, 8))\n",
    "sc.pl.tsne(adata, color=[\"condition\"], ax=ax, show=show_plot)"
   ]
  },
  {
   "cell_type": "markdown",
   "metadata": {},
   "source": [
    "# Scores"
   ]
  },
  {
   "cell_type": "code",
   "execution_count": null,
   "metadata": {},
   "outputs": [],
   "source": [
    "print(\"Entropy of batch mixing :\", entropy_batch_mixing(latent, batches))"
   ]
  },
  {
   "cell_type": "markdown",
   "metadata": {},
   "source": [
    "## Kmeans Clustering Score"
   ]
  },
  {
   "cell_type": "code",
   "execution_count": null,
   "metadata": {},
   "outputs": [],
   "source": [
    "print(\"Clustering ARI = {}\".format(clustering_scores(dataset.n_labels, labels, latent)))"
   ]
  },
  {
   "cell_type": "markdown",
   "metadata": {},
   "source": [
    "## Louvain Clustering Score"
   ]
  },
  {
   "cell_type": "code",
   "execution_count": null,
   "metadata": {},
   "outputs": [],
   "source": [
    "sc.pp.neighbors(adata, use_rep=\"X_scGAN\", n_neighbors=30)\n",
    "sc.tl.louvain(adata, resolution=0.20)"
   ]
  },
  {
   "cell_type": "code",
   "execution_count": null,
   "metadata": {},
   "outputs": [],
   "source": [
    "show_plot = True\n",
    "fig, ax = plt.subplots(figsize=(9, 8))\n",
    "sc.pl.tsne(adata, color=['louvain'], ax=ax, show=show_plot)"
   ]
  },
  {
   "cell_type": "code",
   "execution_count": null,
   "metadata": {},
   "outputs": [],
   "source": [
    "from sklearn.metrics import adjusted_rand_score as ARI\n",
    "ari_score = ARI(labels, adata.obs['louvain'])\n",
    "print(\"Louvain Clustering ARI = {}\".format(ari_score))"
   ]
  },
  {
   "cell_type": "markdown",
   "metadata": {},
   "source": [
    "# Significant Genes"
   ]
  },
  {
   "cell_type": "code",
   "execution_count": null,
   "metadata": {},
   "outputs": [],
   "source": [
    "from torch.utils.data import DataLoader, Dataset\n",
    "\n",
    "class MyDataset(Dataset):    \n",
    "    def __init__(self, data, label):\n",
    "        self.data = data\n",
    "        self.label = label\n",
    "        \n",
    "    def __len__(self):\n",
    "        return len(self.data)\n",
    "    \n",
    "    def __getitem__(self, index):\n",
    "        data = self.data.iloc[index].values\n",
    "        label = self.label.iloc[index]\n",
    "            \n",
    "        return data, label\n",
    "    "
   ]
  },
  {
   "cell_type": "code",
   "execution_count": null,
   "metadata": {},
   "outputs": [],
   "source": [
    "import torch.nn.functional as F\n",
    "def train(model, train_loader, optimizer, epochs):\n",
    "    model.train()\n",
    "    history = []\n",
    "    for epoch in tqdm(range(1, epochs)):\n",
    "        model.train()\n",
    "        for batch_idx, (data, target) in enumerate(train_loader):\n",
    "            data, target = data.to(device), target.to(device)\n",
    "            optimizer.zero_grad()\n",
    "            output = model(data)\n",
    "\n",
    "            loss = F.nll_loss(output, target)\n",
    "            loss.backward()\n",
    "            optimizer.step()\n",
    "            if batch_idx % 10 == 0:\n",
    "                history.append(loss.item())\n",
    "            \n",
    "    return history\n"
   ]
  },
  {
   "cell_type": "markdown",
   "metadata": {},
   "source": [
    "# Automatic DE "
   ]
  },
  {
   "cell_type": "code",
   "execution_count": null,
   "metadata": {},
   "outputs": [],
   "source": [
    "psygenet = pd.read_csv(\"/home/mcb/users/mbahra5/project/scVI/psygenet_v02.txt\", sep='\\t')\n",
    "disgenet = pd.read_csv(\"/home/mcb/users/mbahra5/project/scVI/curated_gene_disease_associations.tsv.gz\", sep='\\t')\n",
    "mask1 = psygenet['PsychiatricDisorder']=='Depressive disorders' \n",
    "mask2 = psygenet['PsychiatricDisorder']=='Schizophrenia spectrum and other psychotic disorders' \n",
    "mask1_dis = disgenet['diseaseName']=='Major Depressive Disorder' \n",
    "genes = adata.var.index.values"
   ]
  },
  {
   "cell_type": "code",
   "execution_count": null,
   "metadata": {
    "scrolled": true
   },
   "outputs": [],
   "source": [
    "\n",
    "overlaps=[]\n",
    "overlaps_dis = []\n",
    "for cluster in adata.obs['louvain'].cat.categories:\n",
    "    adata_filter = adata[(adata.obs['louvain']==cluster).values]\n",
    "    adata_train = adata_filter[:-5]\n",
    "    adata_test = adata_filter[-5:]\n",
    "    \n",
    "    mydataset = MyDataset(data = pd.DataFrame(adata_train.obsm['X_scGAN']) , label=adata_train.obs['condition'].cat.codes.astype('long'))\n",
    "    train_loader = torch.utils.data.DataLoader(mydataset, batch_size=512)\n",
    "    mdd_classifier = Discriminator(n_latent, [2*n_latent, 2*n_latent], 2).to('cuda:0')\n",
    "    \n",
    "    optimizerMDD= torch.optim.Adam(mdd_classifier.parameters(), lr = lr)\n",
    "    history = train(mdd_classifier, train_loader, optimizerMDD, epochs=30)\n",
    "    \n",
    "    gene_dataset = MyDataset(data = pd.DataFrame(adata_train.X.toarray()) , label=adata_train.obs['batch'].astype('long'))\n",
    "    gene_dataset_loader = torch.utils.data.DataLoader(gene_dataset, batch_size=512)\n",
    "\n",
    "    grads = []\n",
    "    for sample_batch, batch_index in tqdm(gene_dataset_loader):\n",
    "        vae.zero_grad()\n",
    "        optimizerMDD.zero_grad()\n",
    "        \n",
    "        sample_batch = sample_batch.to(device)\n",
    "        batch_index = batch_index.to(device)\n",
    "        sample_batch.requires_grad=True\n",
    "        batch_index = batch_index.reshape((-1,1))\n",
    "        \n",
    "        z = vae.sample_from_posterior_z(sample_batch, give_mean=True)\n",
    "        output = mdd_classifier(z)\n",
    "        output = torch.exp(output)\n",
    "        output.sum(dim=0)[0].backward()\n",
    "        grads.append(sample_batch.grad.detach().cpu().numpy())    \n",
    "    \n",
    "    grads_per_gene_abs = np.absolute(np.concatenate(grads).sum(axis=0))\n",
    "    print('grad shape for cluster {} is ={}'.format(cluster,grads_per_gene_abs.shape))\n",
    "    genes_top = genes[grads_per_gene_abs.argsort()[-50:]]\n",
    "    \n",
    "    overlap = np.intersect1d(psygenet[mask1|mask2]['Gene_Symbol'].values, genes_top)\n",
    "    overlap_dis = np.intersect1d(disgenet[mask1_dis]['geneSymbol'].values, genes_top)\n",
    "    overlaps.append(overlap)\n",
    "    overlaps_dis.append(overlap_dis)\n",
    "    print(overlap)\n",
    "    print(overlap_dis)"
   ]
  },
  {
   "cell_type": "code",
   "execution_count": null,
   "metadata": {},
   "outputs": [],
   "source": [
    "for i, ov in enumerate(overlaps):\n",
    "    print(\"DEGs for cluster {}:{}\".format(i, ', '.join(list(ov))))\n"
   ]
  },
  {
   "cell_type": "markdown",
   "metadata": {},
   "source": [
    "# Automatic DEGs across all clusters"
   ]
  },
  {
   "cell_type": "code",
   "execution_count": null,
   "metadata": {
    "scrolled": true
   },
   "outputs": [],
   "source": [
    "\n",
    "overlaps=[]\n",
    "overlaps_dis = []\n",
    "grads_all_clusters =[]\n",
    "for cluster in adata.obs['louvain'].cat.categories:\n",
    "    adata_filter = adata[(adata.obs['louvain']==cluster).values]\n",
    "    adata_train = adata_filter[:-5]\n",
    "    adata_test = adata_filter[-5:]\n",
    "    \n",
    "    mydataset = MyDataset(data = pd.DataFrame(adata_train.obsm['X_scGAN']) , label=adata_train.obs['condition'].cat.codes.astype('long'))\n",
    "    train_loader = torch.utils.data.DataLoader(mydataset, batch_size=512)\n",
    "    mdd_classifier = Discriminator(n_latent, [2*n_latent, 2*n_latent], 2).to('cuda:0')\n",
    "    \n",
    "    optimizerMDD= torch.optim.Adam(mdd_classifier.parameters(), lr = lr)\n",
    "    history = train(mdd_classifier, train_loader, optimizerMDD, epochs=30)\n",
    "    \n",
    "    gene_dataset = MyDataset(data = pd.DataFrame(adata_train.X.toarray()) , label=adata_train.obs['batch'].astype('long'))\n",
    "    gene_dataset_loader = torch.utils.data.DataLoader(gene_dataset, batch_size=512)\n",
    "\n",
    "    grads = []\n",
    "    for sample_batch, batch_index in tqdm(gene_dataset_loader):\n",
    "        vae.zero_grad()\n",
    "        optimizerMDD.zero_grad()\n",
    "        \n",
    "        sample_batch = sample_batch.to(device)\n",
    "        batch_index = batch_index.to(device)\n",
    "        sample_batch.requires_grad=True\n",
    "        batch_index = batch_index.reshape((-1,1))\n",
    "        \n",
    "        z = vae.sample_from_posterior_z(sample_batch, give_mean=True)\n",
    "        output = mdd_classifier(z)\n",
    "        output = torch.exp(output)\n",
    "        output.sum(dim=0)[0].backward()\n",
    "        grads.append(sample_batch.grad.detach().cpu().numpy())    \n",
    "    \n",
    "    grads_per_gene_abs = np.absolute(np.concatenate(grads).mean(axis=0))\n",
    "    grads_all_clusters.append(grads_per_gene_abs)\n"
   ]
  },
  {
   "cell_type": "code",
   "execution_count": null,
   "metadata": {},
   "outputs": [],
   "source": [
    "print('Overlaps with PsyGeNet:')\n",
    "for top in [5, 10 , 50]:\n",
    "    grads_agg = np.array(grads_all_clusters).max(axis=0)\n",
    "    genes_top = genes[grads_agg.argsort()[-top:]]\n",
    "    overlap = np.intersect1d(psygenet[mask1|mask2]['Gene_Symbol'].values, genes_top)\n",
    "    print(\"DEGs for top {}: {}\".format(top, len(overlap)))\n",
    "    "
   ]
  },
  {
   "cell_type": "code",
   "execution_count": null,
   "metadata": {},
   "outputs": [],
   "source": [
    "print('Overlaps with DisGeNet:')\n",
    "for top in [50, 100 ]:\n",
    "    grads_agg = np.array(grads_all_clusters).max(axis=0)\n",
    "    genes_top = genes[grads_agg.argsort()[-top:]]\n",
    "    overlap_dis = np.intersect1d(disgenet[mask1_dis]['geneSymbol'].values, genes_top)\n",
    "    print(\"DEGs for top {}: {}\".format(top, len(overlap_dis)))"
   ]
  },
  {
   "cell_type": "code",
   "execution_count": null,
   "metadata": {},
   "outputs": [],
   "source": [
    "top = 50\n",
    "grads_agg = np.array(grads_all_clusters).max(axis=0)\n",
    "genes_top = pd.DataFrame(genes[grads_agg.argsort()[-top:]], columns=['gene'])\n",
    "genes_top['grad'] = grads_agg[grads_agg.argsort()][-top:]\n",
    "genes_top['in_pygenet'] = genes_top['gene'].apply(lambda x: x in psygenet[mask1|mask2]['Gene_Symbol'].values)\n",
    "genes_top.sort_values('grad', ascending=False)"
   ]
  },
  {
   "cell_type": "markdown",
   "metadata": {},
   "source": [
    "## Overlap with GWAS"
   ]
  },
  {
   "cell_type": "code",
   "execution_count": null,
   "metadata": {},
   "outputs": [],
   "source": [
    "gwas = pd.read_csv(\"/home/mcb/users/mbahra5/project/scVI/gwas-association-downloaded_2020-04-22-EFO_0003761-withChildTraits.tsv\", sep='\\t')\n",
    "# mask_gwas = gwas['DISEASE/TRAIT']=='Major depressive disorder'\n",
    "mask_gwas = gwas['DISEASE/TRAIT'].apply(lambda x : ('Major depressive disorder' in x) | ('major depressive disorder' in x))\n",
    "gwas = gwas[mask_gwas]"
   ]
  },
  {
   "cell_type": "code",
   "execution_count": null,
   "metadata": {},
   "outputs": [],
   "source": [
    "gwas_genes = []\n",
    "for g in gwas['MAPPED_GENE']:    \n",
    "    g = str(g).replace(' - ',', ').replace('; ',', ')\n",
    "    if ', ' in g:\n",
    "        gwas_genes.extend(g.split(', '))"
   ]
  },
  {
   "cell_type": "code",
   "execution_count": null,
   "metadata": {},
   "outputs": [],
   "source": [
    "print('Overlaps with GWAS:')\n",
    "for top in [5, 10 , 50, 100]:\n",
    "    grads_agg = np.array(grads_all_clusters).sum(axis=0)\n",
    "    genes_top = genes[grads_agg.argsort()[-top:]]\n",
    "\n",
    "    overlap = np.intersect1d(gwas_genes, genes_top)\n",
    "    overlap_dis = np.intersect1d(gwas_genes, genes_top)\n",
    "#     print(\"DEGs for top {}: {}\".format(top, ', '.join(list(overlap))))\n",
    "    print(\"DEGs for top {}: {}\".format(top, len(overlap)))\n",
    "    print(overlap)"
   ]
  },
  {
   "cell_type": "markdown",
   "metadata": {},
   "source": [
    "# Cluster Enrichment Analysis"
   ]
  },
  {
   "cell_type": "code",
   "execution_count": null,
   "metadata": {},
   "outputs": [],
   "source": [
    "from scipy.stats import hypergeom\n",
    "suicide_numbers_total = (adata.obs.condition=='Suicide').values.sum()\n",
    "pvalues = []\n",
    "for cluster in adata.obs['louvain'].cat.categories:\n",
    "    adata_filter = adata[(adata.obs['louvain']==cluster).values]\n",
    "    suicide_numbers = (adata_filter.obs.condition=='Suicide').values.sum()\n",
    "    p_value = hypergeom.sf(k = suicide_numbers-1, M = adata.shape[0] , n = suicide_numbers_total, N = adata_filter.shape[0], loc=0)\n",
    "    print('P-value of Hyper test for cluster {} = {}'.format(cluster,p_value))\n",
    "    pvalues.append(p_value)"
   ]
  },
  {
   "cell_type": "code",
   "execution_count": null,
   "metadata": {},
   "outputs": [],
   "source": [
    "louvain_color = np.ones(adata.shape[0])\n",
    "for cluster, p in enumerate(pvalues):\n",
    "    temp_mask = adata.obs['louvain'].values==str(cluster)\n",
    "    louvain_color[temp_mask] = -np.log10(p)\n",
    "adata.obs['louvain_color'] = louvain_color\n",
    "\n",
    "show_plot = True\n",
    "fig, ax = plt.subplots(figsize=(5, 4),  dpi=150)\n",
    "sc.pl.tsne(adata, color=['louvain_color'], ax=ax, show=show_plot, color_map='Reds')\n",
    "# fig.savefig('/home/mcb/users/mbahra5/project/scVI/pics/{}_{}_louvain_bypvalue.png'.format(dataset_name,method), bbox_inches = 'tight')\n"
   ]
  },
  {
   "cell_type": "markdown",
   "metadata": {},
   "source": [
    "# DE across all clusters by Lmer"
   ]
  },
  {
   "cell_type": "code",
   "execution_count": null,
   "metadata": {
    "scrolled": true
   },
   "outputs": [],
   "source": [
    "from pymer4.models import Lm, Lmer\n",
    "\n",
    "adata_log = sc.pp.log1p(adata, copy=True)\n",
    "# adata_log = adata\n",
    "pvals=[]\n",
    "\n",
    "for cluster in adata_log.obs['louvain'].cat.categories:\n",
    "    print('cluster=' + str(cluster))\n",
    "    mask = (adata_log.obs['louvain']==cluster).values\n",
    "    adata_log = adata_log[mask]\n",
    "    \n",
    "#     df = pd.DataFrame(adata_log.obsm['X_scGAN'], columns=[\"IV\"+str(x) for x in range(10)], index=adata_log.obs.index)\n",
    "    df = pd.DataFrame()\n",
    "    df['condition'] = adata_log.obs['condition'].values\n",
    "    df['patient_id'] = adata_log.obs['patient_id'].values\n",
    "    \n",
    "#     sc.pp.highly_variable_genes(adata_log, n_top_genes=5000)\n",
    "#     adata_log = adata_log[:,adata_log.var.highly_variable]\n",
    "    genes_highvar = adata_log.var.index.values\n",
    "    \n",
    "    pvals_per_cluster = []\n",
    "    for i , gene_name in enumerate(genes_highvar):\n",
    "        gene = adata_log[:,i]\n",
    "        df['gene'] = gene.X\n",
    "    #     df['gene'] = np.random.rand(gene.X.shape[0])\n",
    "    #     df['gene'] = df['condition'].cat.codes + np.random.rand(gene.shape[0])\n",
    "\n",
    "        model = Lm('gene ~ 1 + condition + (1|patient_id)',data=df)\n",
    "#         model = Lmer('gene ~ 1 + condition + (1|patient_id) + IV0 + IV1 + IV2 + IV3 + IV4 + IV5 + IV6 + IV7 + IV8 + IV9',data=df)\n",
    "        model.fit(summarize=False)\n",
    "        pvals_per_cluster.append([model.coefs['P-val'][1] , model.coefs['Estimate'][1], gene_name])\n",
    "        \n",
    "    pvals.append(pvals_per_cluster)\n",
    "    "
   ]
  },
  {
   "cell_type": "code",
   "execution_count": null,
   "metadata": {},
   "outputs": [],
   "source": [
    "gene_scores = []\n",
    "for k , pvals_per_cluster in enumerate(pvals):\n",
    "    gene_score = pd.DataFrame(pvals_per_cluster,columns=['pval','estimate','gene'])\n",
    "    gene_scores.append(gene_score)\n",
    "  "
   ]
  },
  {
   "cell_type": "code",
   "execution_count": null,
   "metadata": {},
   "outputs": [],
   "source": [
    "genes_pvalues = pd.concat(gene_scores, axis=0).groupby('gene').min()"
   ]
  },
  {
   "cell_type": "code",
   "execution_count": null,
   "metadata": {},
   "outputs": [],
   "source": [
    "for top in [5, 10 , 50 , 100]:\n",
    "    genes_top = genes_pvalues.sort_values('pval').index[:top].values\n",
    "    overlap = np.intersect1d(psygenet[mask1|mask2]['Gene_Symbol'].values, genes_top)\n",
    "    overlap_dis = np.intersect1d(disgenet[mask1_dis]['geneSymbol'].values, genes_top)\n",
    "    print(\"DEGs for top {}: {}\".format(top, len(overlap)))"
   ]
  },
  {
   "cell_type": "code",
   "execution_count": null,
   "metadata": {},
   "outputs": [],
   "source": [
    "for top in [50, 100 , 200]:\n",
    "    genes_top = genes_pvalues.sort_values('pval').index[:top].values\n",
    "#     overlap = np.intersect1d(psygenet[mask1|mask2]['Gene_Symbol'].values, genes_top)\n",
    "    overlap_dis = np.intersect1d(disgenet[mask1_dis]['geneSymbol'].values, genes_top)\n",
    "    print(\"DEGs for top {}: {}\".format(top, len(overlap_dis)))\n",
    "#     print(overlap)\n",
    "#     print(overlap_dis)"
   ]
  },
  {
   "cell_type": "markdown",
   "metadata": {},
   "source": [
    "# UMAP"
   ]
  },
  {
   "cell_type": "code",
   "execution_count": null,
   "metadata": {},
   "outputs": [],
   "source": [
    "# import warnings\n",
    "# warnings.filterwarnings('ignore')\n",
    "sc.pp.neighbors(adata, use_rep=\"X_scGAN\", n_neighbors=15)\n",
    "sc.tl.umap(adata, min_dist=0.1)"
   ]
  },
  {
   "cell_type": "code",
   "execution_count": null,
   "metadata": {},
   "outputs": [],
   "source": [
    "show_plot = True\n",
    "fig, ax = plt.subplots(figsize=(10, 9))\n",
    "sc.pl.umap(adata, color=[\"cell_type\"], ax=ax, show=show_plot)\n",
    "fig, ax = plt.subplots(figsize=(10, 9))\n",
    "sc.pl.umap(adata, color=[\"batch\"], ax=ax, show=show_plot)\n"
   ]
  },
  {
   "cell_type": "code",
   "execution_count": null,
   "metadata": {},
   "outputs": [],
   "source": []
  }
 ],
 "metadata": {
  "kernelspec": {
   "display_name": "Python 3",
   "language": "python",
   "name": "python3"
  },
  "language_info": {
   "codemirror_mode": {
    "name": "ipython",
    "version": 3
   },
   "file_extension": ".py",
   "mimetype": "text/x-python",
   "name": "python",
   "nbconvert_exporter": "python",
   "pygments_lexer": "ipython3",
   "version": "3.6.9"
  }
 },
 "nbformat": 4,
 "nbformat_minor": 4
}
