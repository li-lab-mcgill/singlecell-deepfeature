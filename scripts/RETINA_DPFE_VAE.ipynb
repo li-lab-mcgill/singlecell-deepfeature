{
 "cells": [
  {
   "cell_type": "code",
   "execution_count": null,
   "metadata": {},
   "outputs": [],
   "source": [
    "# import warnings\n",
    "# warnings.filterwarnings('ignore')\n",
    "\n",
    "import random\n",
    "from pathlib import Path\n",
    "from optparse import OptionParser\n",
    "import numpy as np\n",
    "import pandas as pd\n",
    "from sklearn.preprocessing import MinMaxScaler, StandardScaler, RobustScaler\n",
    "from sklearn.decomposition import PCA\n",
    "from sklearn.neighbors import KNeighborsClassifier\n",
    "from sklearn.manifold import TSNE\n",
    "\n",
    "import keras\n",
    "from keras.utils import multi_gpu_model\n",
    "from keras.models import Model, Sequential\n",
    "from keras.layers import Input, Dense, Dropout, Lambda, Activation, Concatenate, BatchNormalization, ReLU\n",
    "from keras.optimizers import Adam\n",
    "from keras import backend as K\n",
    "from keras.utils import to_categorical\n",
    "from keras.losses import mse\n",
    "\n",
    "import tensorflow as tf\n",
    "\n",
    "import matplotlib.pyplot as plt\n",
    "# %matplotlib inline\n",
    "\n",
    "import os\n",
    "from scvi.dataset import AnnDatasetFromAnnData, RetinaDataset, LoomDataset\n",
    "import scanpy as sc\n",
    "import anndata\n",
    "import matplotlib.pyplot as plt\n",
    "import sys\n",
    "\n",
    "sys.path.append(\"/home/mcb/users/mbahra5/project/\")\n",
    "from utils import entropy_batch_mixing , clustering_scores, classification_acc_measure\n"
   ]
  },
  {
   "cell_type": "markdown",
   "metadata": {},
   "source": [
    "# Hyper Parameters"
   ]
  },
  {
   "cell_type": "code",
   "execution_count": null,
   "metadata": {},
   "outputs": [],
   "source": [
    "seed = 344\n",
    "gpus = [\"2\"]\n",
    "decoder_loss_weight = 1.\n",
    "kl_loss_weight = 0.0\n",
    "distance_loss_weight = 0.0 \n",
    "margin = 1.0\n",
    "epochs = 50\n",
    "batch_size = 128\n",
    "layers = [128]\n",
    "latent_dim = 10\n",
    "activation = 'relu'\n",
    "latent_activation = 'linear'\n",
    "output_activation = 'relu'\n",
    "split_train , split_val = 0.9, 0.95\n",
    "verbose = 1"
   ]
  },
  {
   "cell_type": "code",
   "execution_count": null,
   "metadata": {},
   "outputs": [],
   "source": [
    "# parser = OptionParser()\n",
    "\n",
    "# parser.add_option(\"--seed\", dest=\"seed\", type=\"int\", default=342)\n",
    "# parser.add_option(\"--gpus\", dest=\"gpus\", type=\"string\", default='[\"2\"]')\n",
    "# parser.add_option(\"--epochs\", dest=\"epochs\", type=\"int\", default=50)\n",
    "# parser.add_option(\"--batch_size\", dest=\"batch_size\", type=\"int\", default=128)\n",
    "# parser.add_option(\"--loss_weight\", dest=\"loss_weight\", type=\"float\", default=0.)\n",
    "# parser.add_option(\"--kl_loss_weight\", dest=\"kl_loss_weight\", type=\"float\", default=1.)\n",
    "# parser.add_option(\"--margin\", dest=\"margin\", type=\"float\", default=1.0)\n",
    "# parser.add_option(\"--layers\", dest=\"layers\", type=\"string\", default='[128]')\n",
    "# parser.add_option(\"--latent_dim\", dest=\"latent_dim\", type=\"int\", default=10)\n",
    "# parser.add_option(\"--latent_activation\", dest=\"latent_activation\", type=\"string\", default='linear')\n",
    "# parser.add_option(\"--verbose\", dest=\"verbose\", type=\"int\", default=0)\n",
    "\n",
    "# (options, args) = parser.parse_args()\n",
    "\n",
    "# seed = options.seed\n",
    "# gpus = eval(options.gpus)\n",
    "# decoder_loss_weight = 1.\n",
    "# distance_loss_weight = options.loss_weight\n",
    "# kl_loss_weight = options.kl_loss_weight\n",
    "# margin = options.margin\n",
    "# epochs = options.epochs\n",
    "# batch_size = options.batch_size\n",
    "# layers = eval(options.layers)\n",
    "# latent_dim = options.latent_dim\n",
    "# activation = 'relu'\n",
    "# latent_activation = options.latent_activation\n",
    "# output_activation = 'relu'\n",
    "# split_train , split_val = 0.9, 0.95\n",
    "# verbose = options.verbose\n",
    "\n",
    "\n",
    "# print(options)"
   ]
  },
  {
   "cell_type": "markdown",
   "metadata": {},
   "source": [
    "# Initialization"
   ]
  },
  {
   "cell_type": "code",
   "execution_count": null,
   "metadata": {},
   "outputs": [],
   "source": [
    "os.environ['PYTHONHASHSEED']=str(seed)\n",
    "random.seed(seed)\n",
    "np.random.seed(seed)\n",
    "tf.set_random_seed(seed)\n",
    "\n",
    "os.environ[\"CUDA_VISIBLE_DEVICES\"] = ','.join(gpus)"
   ]
  },
  {
   "cell_type": "markdown",
   "metadata": {},
   "source": [
    "# Load Data"
   ]
  },
  {
   "cell_type": "code",
   "execution_count": null,
   "metadata": {},
   "outputs": [],
   "source": [
    "batch_col, batch_col_cat = 'batch','batch_cat'\n",
    "save_path = \"/home/mcb/users/mbahra5/project/data/\"\n",
    "dataset = RetinaDataset(save_path=save_path)"
   ]
  },
  {
   "cell_type": "code",
   "execution_count": null,
   "metadata": {},
   "outputs": [],
   "source": [
    "# dataset.filter_genes_"
   ]
  },
  {
   "cell_type": "code",
   "execution_count": null,
   "metadata": {},
   "outputs": [],
   "source": [
    "adata = anndata.AnnData(X=dataset.X)\n",
    "adata.obs['cell_type'] = np.array([dataset.cell_types[dataset.labels[i][0]] for i in range(adata.n_obs)])\n",
    "adata.obs[batch_col] = np.array([dataset.batch_indices[i][0] for i in range(adata.n_obs)])"
   ]
  },
  {
   "cell_type": "markdown",
   "metadata": {},
   "source": [
    "# Preprocess"
   ]
  },
  {
   "cell_type": "code",
   "execution_count": null,
   "metadata": {},
   "outputs": [],
   "source": [
    "sc.pp.subsample(adata,fraction=1,random_state = seed)\n",
    "sc.pp.log1p(adata)\n",
    "# sc.pp.scale(adata)\n",
    "\n",
    "adata.obs[batch_col_cat] = pd.Categorical(adata.obs[batch_col])"
   ]
  },
  {
   "cell_type": "code",
   "execution_count": null,
   "metadata": {},
   "outputs": [],
   "source": [
    "adata_train = adata[:int(split_train*adata.n_obs)]\n",
    "adata_val   = adata[int(split_train *adata.n_obs) : int(split_val*adata.n_obs)]\n",
    "adata_test  = adata[int(split_val*adata.n_obs) :]"
   ]
  },
  {
   "cell_type": "markdown",
   "metadata": {},
   "source": [
    "# Latent Inference"
   ]
  },
  {
   "cell_type": "code",
   "execution_count": null,
   "metadata": {},
   "outputs": [],
   "source": [
    "def sampling(args):\n",
    "    z_mean, z_log_var = args\n",
    "    batch = K.shape(z_mean)[0]\n",
    "    dim = K.int_shape(z_mean)[1]\n",
    "    # by default, random_normal has mean = 0 and std = 1.0\n",
    "    epsilon = K.random_normal(shape=(batch, dim))\n",
    "    return z_mean + K.exp(0.5 * z_log_var) * epsilon\n",
    "\n",
    "def create_encoder_network(input_shape, layers, latent_dim):\n",
    "    inputs = Input(shape=input_shape, name='encoder_input')\n",
    "    x = inputs\n",
    "    for layer in layers:\n",
    "        if layer == 'D':\n",
    "            x = Dropout(0.2)(x)\n",
    "        else:\n",
    "            x = Dense(units=layer)(x)\n",
    "            x = BatchNormalization(momentum=0.99, epsilon=0.001)(x) # todo: momentum for scVI paper is 0.01\n",
    "            x = Activation(activation)(x)\n",
    "            x = Dropout(0.1)(x)\n",
    "    \n",
    "    \n",
    "    z_mean = Dense(latent_dim, name='z_mean')(x)\n",
    "    z_log_var = Dense(latent_dim, name='z_log_var')(x)\n",
    "    z = Lambda(sampling, output_shape=(latent_dim,), name='z')([z_mean, z_log_var])\n",
    "    #     x = Dense(units=latent_dim, activation=latent_activation)(x)\n",
    "    \n",
    "    encoder = Model(inputs, [z_mean, z_log_var, z], name='encoder')\n",
    "    return encoder\n",
    "\n",
    "\n",
    "def create_decoder_network(layers, latent_dim, output_shape, batch_input_shape):\n",
    "    \n",
    "    batch_input = Input(shape=batch_input_shape, name='batch_input')\n",
    "    latent_inputs = Input(shape=(latent_dim,), name='decoder_input')\n",
    "    x = Concatenate(axis=-1)([batch_input, latent_inputs])\n",
    "\n",
    "    for layer in reversed(layers[:-1]):\n",
    "        x = Dense(units=layer)(x)\n",
    "        x = BatchNormalization(momentum=0.99, epsilon=0.001)(x) # todo: momentum for scVI paper is 0.01\n",
    "        x = Activation(activation)(x)\n",
    "        \n",
    "    outputs = Dense(units=output_shape[0], activation=output_activation)(x)\n",
    "\n",
    "    # Instantiate Decoder Model\n",
    "    decoder = Model([batch_input, latent_inputs], outputs, name='decoder')\n",
    "\n",
    "    return decoder\n",
    "\n",
    "\n",
    "def create_all_models(input_shape, batch_input_shape, layers, latent_dim):\n",
    "    encoder = create_encoder_network(input_shape, layers, latent_dim)\n",
    "\n",
    "    batch_input_1 = Input(shape=batch_input_shape, name='batch_input_1')\n",
    "    input_1 = Input(shape=input_shape, name='input_1')\n",
    "    input_2 = Input(shape=input_shape, name='input_2')\n",
    "    isSameBatch = Input(shape=(1,), name='isSameBatch')\n",
    "    \n",
    "    \n",
    "    z_mean, z_log_var, em1_layer = encoder(input_1)\n",
    "    em2_layer = encoder(input_2)[2]\n",
    "\n",
    "    decoder = create_decoder_network(layers, latent_dim, input_shape, batch_input_shape)\n",
    "    distance_layer = Lambda(euclidean_distance, output_shape=eucl_dist_output_shape, name='distance_layer')(\n",
    "        [em1_layer, em2_layer])\n",
    "    decoder_layer = decoder([batch_input_1, em1_layer])\n",
    "\n",
    "    model = Model(inputs=[input_1, input_2,batch_input_1,isSameBatch], outputs=[distance_layer, decoder_layer])\n",
    "    if len(gpus)>1:\n",
    "        model = multi_gpu_model(model, gpus=len(gpus)) \n",
    "    \n",
    "    reconstruction_loss = mse(input_1, decoder_layer)\n",
    "    original_dim = input_shape[0]\n",
    "    kl_loss = 1 + z_log_var - K.square(z_mean) - K.exp(z_log_var)\n",
    "    kl_loss = -0.5 * K.sum(kl_loss, axis=-1) / original_dim\n",
    "    \n",
    "    batch_corr_loss = contrastive_loss(isSameBatch, distance_layer)\n",
    "    \n",
    "    vae_loss = K.mean(reconstruction_loss + kl_loss_weight * kl_loss + distance_loss_weight * batch_corr_loss)\n",
    "    model.add_loss(vae_loss)\n",
    "    \n",
    "    model.compile(optimizer='adam')\n",
    "\n",
    "    # embedding_preds = embedding_network.predict(x, batch_size=64)\n",
    "    # Wsave = model.get_weights()\n",
    "\n",
    "    return model, encoder, decoder\n",
    "\n",
    "\n",
    "def euclidean_distance(vects):\n",
    "    x, y = vects\n",
    "    sum_square = K.sum(K.square(x - y), axis=1, keepdims=True)\n",
    "    return K.sqrt(K.maximum(sum_square, K.epsilon()))\n",
    "\n",
    "\n",
    "def eucl_dist_output_shape(shapes):\n",
    "    shape1, shape2 = shapes\n",
    "    return (shape1[0], 1)\n",
    "\n",
    "\n",
    "def contrastive_loss(y_true, y_pred):\n",
    "    '''Contrastive loss from Hadsell-et-al.'06\n",
    "    http://yann.lecun.com/exdb/publis/pdf/hadsell-chopra-lecun-06.pdf\n",
    "    '''\n",
    "    sqaure_pred = K.square(y_pred)\n",
    "    margin_square = K.square(K.maximum(margin - y_pred, 0))\n",
    "    return K.mean((1 - y_true) * sqaure_pred + (y_true) * margin_square)\n"
   ]
  },
  {
   "cell_type": "code",
   "execution_count": null,
   "metadata": {},
   "outputs": [],
   "source": [
    "config = tf.ConfigProto()\n",
    "config.gpu_options.allow_growth = True\n",
    "sess = tf.Session(config=config)\n",
    "K.set_session(sess)\n",
    "\n",
    "batch_input_shape = (len(adata_train.obs[batch_col].unique()),)\n",
    "input_shape = (adata_train.X.shape[1],)\n",
    "\n",
    "model, encoder, decoder = create_all_models(input_shape, batch_input_shape, layers, latent_dim)\n",
    "# encoder = create_encoder_network(input_shape, layers, latent_dim)\n",
    "# decoder = create_decoder_network(layers, latent_dim, input_shape)\n",
    "# model = Model(encoder.inputs, decoder(encoder(encoder.inputs)), name='autoencoder')\n",
    "# model.compile(loss='mse', optimizer='adam')\n",
    "model.summary()\n"
   ]
  },
  {
   "cell_type": "code",
   "execution_count": null,
   "metadata": {},
   "outputs": [],
   "source": [
    "def batch_gen(adata_x):\n",
    "    while True:\n",
    "        for i in range(0, adata_x.X.shape[0] - batch_size, batch_size):\n",
    "            batch_1 = adata_x.obs[i:i + batch_size][batch_col_cat].cat.codes.values\n",
    "#             sample_1 = adata_x.X[i:i + batch_size].toarray()\n",
    "            sample_1 = adata_x.X[i:i + batch_size]\n",
    "            batch_1_onehot = to_categorical(batch_1,num_classes=batch_input_shape[0])\n",
    "#             batch_1_onehot = np.zeros((batch_1.shape[0],batch_input_shape[0]))\n",
    "            \n",
    "            j = random.randrange(0, adata_x.X.shape[0] - batch_size)\n",
    "            batch_2 = adata_x.obs[j:j + batch_size][batch_col_cat].cat.codes.values\n",
    "#             sample_2 = adata_x.X[j:j + batch_size].toarray()\n",
    "            sample_2 = adata_x.X[j:j + batch_size]\n",
    "\n",
    "            pair_y = batch_1 == batch_2\n",
    "\n",
    "            yield {'input_1': sample_1, 'input_2': sample_2, 'batch_input_1': batch_1_onehot, 'isSameBatch': pair_y}, {}\n",
    "#             yield sample_1, sample_1\n",
    "#             yield sample_1.max()\n",
    "            \n",
    "steps_per_epoch = adata_train.X.shape[0] // batch_size\n",
    "steps_per_epoch_val = adata_val.X.shape[0] // batch_size\n",
    "\n",
    "\n",
    "class ShuffleData(keras.callbacks.Callback):\n",
    "    def on_epoch_begin(self, epoch, logs={}):\n",
    "        sc.pp.subsample(adata_train,fraction=1,random_state = seed)"
   ]
  },
  {
   "cell_type": "code",
   "execution_count": null,
   "metadata": {
    "scrolled": true
   },
   "outputs": [],
   "source": [
    "history = model.fit_generator(batch_gen(adata_train), epochs=epochs, steps_per_epoch=steps_per_epoch,\n",
    "                              callbacks = [ShuffleData()], verbose = verbose,\n",
    "                              validation_data=batch_gen(adata_val), validation_steps=steps_per_epoch_val)"
   ]
  },
  {
   "cell_type": "code",
   "execution_count": null,
   "metadata": {},
   "outputs": [],
   "source": [
    "train_history = history.history['loss']\n",
    "val_history = history.history['val_loss']\n",
    "x = np.array(range(len(train_history)))\n",
    "plt.plot(x, train_history,'blue')\n",
    "plt.plot(x, val_history, 'red')\n",
    "# plt.ylim(min(train_history)-0.01, 1)"
   ]
  },
  {
   "cell_type": "code",
   "execution_count": null,
   "metadata": {},
   "outputs": [],
   "source": [
    "latent = encoder.predict(adata_train.X, batch_size=batch_size)[0]\n",
    "labels = adata_train.obs['cell_type']\n",
    "batches = adata_train.obs[batch_col][:,None]"
   ]
  },
  {
   "cell_type": "code",
   "execution_count": null,
   "metadata": {
    "scrolled": true
   },
   "outputs": [],
   "source": [
    "adata_train.obsm[\"X_DPFE\"] = latent"
   ]
  },
  {
   "cell_type": "markdown",
   "metadata": {},
   "source": [
    "# Scores"
   ]
  },
  {
   "cell_type": "code",
   "execution_count": null,
   "metadata": {},
   "outputs": [],
   "source": [
    "def calc_scores(input_adata):\n",
    "    latent = encoder.predict(input_adata.X, batch_size=batch_size)[0]\n",
    "    labels = input_adata.obs['cell_type']\n",
    "    batches = input_adata.obs[batch_col][:,None]\n",
    "    print(\"Entropy of batch mixing :\", entropy_batch_mixing(latent,batches))\n",
    "    print(\"Clustering ARI = {}\".format(clustering_scores(dataset.n_labels, labels, latent)))"
   ]
  },
  {
   "cell_type": "code",
   "execution_count": null,
   "metadata": {},
   "outputs": [],
   "source": [
    "print('Train Set:')\n",
    "calc_scores(adata_train)"
   ]
  },
  {
   "cell_type": "code",
   "execution_count": null,
   "metadata": {},
   "outputs": [],
   "source": [
    "print('Validation Set:')\n",
    "calc_scores(adata_val)"
   ]
  },
  {
   "cell_type": "code",
   "execution_count": null,
   "metadata": {},
   "outputs": [],
   "source": [
    "print('Test Set:')\n",
    "calc_scores(adata_test)"
   ]
  },
  {
   "cell_type": "code",
   "execution_count": null,
   "metadata": {},
   "outputs": [],
   "source": [
    "print('Totoal Data Set:')\n",
    "calc_scores(adata)"
   ]
  },
  {
   "cell_type": "code",
   "execution_count": null,
   "metadata": {},
   "outputs": [],
   "source": [
    "# posterior.clustering_scores()"
   ]
  },
  {
   "cell_type": "markdown",
   "metadata": {},
   "source": [
    "# t-SNE"
   ]
  },
  {
   "cell_type": "code",
   "execution_count": null,
   "metadata": {
    "scrolled": true
   },
   "outputs": [],
   "source": [
    "sc.tl.tsne(adata_train, use_rep='X_DPFE', n_pcs=2)"
   ]
  },
  {
   "cell_type": "code",
   "execution_count": null,
   "metadata": {},
   "outputs": [],
   "source": [
    "show_plot = True\n",
    "fig, ax = plt.subplots(figsize=(8, 7))\n",
    "sc.pl.tsne(adata_train, color=[\"cell_type\"], ax=ax, show=show_plot)\n",
    "fig, ax = plt.subplots(figsize=(8, 7))\n",
    "sc.pl.tsne(adata_train, color=[batch_col], ax=ax, show=show_plot)"
   ]
  },
  {
   "cell_type": "markdown",
   "metadata": {},
   "source": [
    "# UMAP"
   ]
  },
  {
   "cell_type": "code",
   "execution_count": null,
   "metadata": {},
   "outputs": [],
   "source": [
    "import warnings\n",
    "warnings.filterwarnings('ignore')\n",
    "sc.pp.neighbors(adata_train, use_rep=\"X_DPFE\", n_neighbors=15)\n",
    "sc.tl.umap(adata_train, min_dist=0.1)"
   ]
  },
  {
   "cell_type": "code",
   "execution_count": null,
   "metadata": {},
   "outputs": [],
   "source": [
    "show_plot = True\n",
    "fig, ax = plt.subplots(figsize=(7, 6))\n",
    "sc.pl.umap(adata_train, color=[\"cell_type\"], ax=ax, show=show_plot)\n",
    "fig, ax = plt.subplots(figsize=(7, 6))\n",
    "sc.pl.umap(adata_train, color=[batch_col], ax=ax, show=show_plot)\n"
   ]
  },
  {
   "cell_type": "markdown",
   "metadata": {},
   "source": [
    "# Test"
   ]
  },
  {
   "cell_type": "code",
   "execution_count": null,
   "metadata": {},
   "outputs": [],
   "source": [
    "def add_latent(adata_x):\n",
    "    latent = encoder.predict(adata_x.X, batch_size=batch_size)\n",
    "    adata_x.obsm[\"X_DPFE\"] = latent"
   ]
  },
  {
   "cell_type": "code",
   "execution_count": null,
   "metadata": {},
   "outputs": [],
   "source": [
    "add_latent(adata_val)\n",
    "sc.tl.tsne(adata_val, use_rep='X_DPFE', n_pcs=2)\n",
    "\n",
    "fig, ax = plt.subplots(figsize=(8, 7))\n",
    "sc.pl.tsne(adata_val, color=[\"cell_type\"], ax=ax, show=True)\n",
    "# fig, ax = plt.subplots(figsize=(8, 7))\n",
    "# sc.pl.tsne(adata_val, color=[batch_col], ax=ax, show=True)"
   ]
  },
  {
   "cell_type": "code",
   "execution_count": null,
   "metadata": {},
   "outputs": [],
   "source": [
    "add_latent(adata_test)\n",
    "sc.tl.tsne(adata_test, use_rep='X_DPFE', n_pcs=2)\n",
    "\n",
    "fig, ax = plt.subplots(figsize=(8, 7))\n",
    "sc.pl.tsne(adata_test, color=[\"cell_type\"], ax=ax, show=True)\n",
    "# fig, ax = plt.subplots(figsize=(8, 7))\n",
    "# sc.pl.tsne(adata_val, color=[batch_col], ax=ax, show=True)"
   ]
  },
  {
   "cell_type": "code",
   "execution_count": null,
   "metadata": {},
   "outputs": [],
   "source": [
    "meta = adata.obs\n",
    "meta.groupby(['cell_type','batch']).aggregate('count')"
   ]
  },
  {
   "cell_type": "code",
   "execution_count": null,
   "metadata": {},
   "outputs": [],
   "source": [
    "from keras.utils import plot_model\n",
    "plot_model(encoder, to_file='vae_mlp_encoder.png', show_shapes=True)"
   ]
  },
  {
   "cell_type": "markdown",
   "metadata": {},
   "source": [
    "# Classification Acc Measure"
   ]
  },
  {
   "cell_type": "code",
   "execution_count": null,
   "metadata": {
    "scrolled": true
   },
   "outputs": [],
   "source": [
    "adata_x = adata_train\n",
    "latent_x = encoder.predict(adata_x.X, batch_size=batch_size)[0]\n",
    "labels_x = adata_x.obs['cell_type'].astype('category').cat.codes\n"
   ]
  },
  {
   "cell_type": "code",
   "execution_count": null,
   "metadata": {
    "scrolled": true
   },
   "outputs": [],
   "source": [
    "classification_acc_measure(latent_x, labels_x)"
   ]
  }
 ],
 "metadata": {
  "kernelspec": {
   "display_name": "Python 3",
   "language": "python",
   "name": "python3"
  },
  "language_info": {
   "codemirror_mode": {
    "name": "ipython",
    "version": 3
   },
   "file_extension": ".py",
   "mimetype": "text/x-python",
   "name": "python",
   "nbconvert_exporter": "python",
   "pygments_lexer": "ipython3",
   "version": "3.6.9"
  }
 },
 "nbformat": 4,
 "nbformat_minor": 4
}
